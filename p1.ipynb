{
 "cells": [
  {
   "cell_type": "code",
   "execution_count": 1,
   "id": "56b4a97b-e2a3-4c46-b8e0-7c3da8a74154",
   "metadata": {},
   "outputs": [],
   "source": [
    "#agrewal2@wisc.edu\n",
    "#mgdegrave@wisc.edu"
   ]
  },
  {
   "cell_type": "markdown",
   "id": "328fbe62-7492-48b0-8755-c1f6470c61f0",
   "metadata": {},
   "source": [
    "# Project1 "
   ]
  },
  {
   "cell_type": "code",
   "execution_count": 2,
   "id": "104561e3-48a5-43c0-af2f-9e319bc425f8",
   "metadata": {
    "tags": []
   },
   "outputs": [],
   "source": [
    "import numpy as np\n",
    "import pandas as pd\n",
    "import torch\n",
    "import matplotlib.pyplot as plt\n",
    "import time"
   ]
  },
  {
   "cell_type": "markdown",
   "id": "dc3a9928-9c05-4994-8468-3cc0cf1b984f",
   "metadata": {},
   "source": [
    "## Part 1 Prediction with Hardcoded Model"
   ]
  },
  {
   "cell_type": "code",
   "execution_count": 3,
   "id": "f89e3817-37d6-4b2f-bdd0-ac8c9fbd4e76",
   "metadata": {
    "tags": []
   },
   "outputs": [],
   "source": [
    "#reading data files\n",
    "test = pd.read_csv(\"test.csv\")\n",
    "train = pd.read_csv(\"train.csv\")\n",
    "\n",
    "# turns df into numpy\n",
    "nptrain = train.values\n",
    "nptest = test.values \n",
    "\n",
    "traintorch = torch.tensor(nptrain, dtype = torch.float64) # Converts from np to tensor\n",
    "testtorch = torch.tensor(nptest, dtype = torch.float64)\n",
    "\n",
    "#using GPU if availible\n",
    "if torch.cuda.is_available():\n",
    "    traintorch = traintorch.to(\"cuda\")\n",
    "    testtorch = testtorch.to(\"cuda\")"
   ]
  },
  {
   "cell_type": "code",
   "execution_count": 4,
   "id": "b60774ef-4000-4ec7-9964-c03141cc3ba8",
   "metadata": {
    "tags": []
   },
   "outputs": [],
   "source": [
    "# splits into X and Y for our sets\n",
    "trainX = traintorch[:, 0:10] \n",
    "trainY = traintorch[:, 10:11]\n",
    "\n",
    "testX = testtorch[:, 0:10]\n",
    "testY = testtorch[:, 10:11]\n",
    "\n"
   ]
  },
  {
   "cell_type": "code",
   "execution_count": 5,
   "id": "d646aaf3-6fb1-41b2-8af7-1058b35856d6",
   "metadata": {
    "tags": []
   },
   "outputs": [
    {
     "name": "stdout",
     "output_type": "stream",
     "text": [
      "torch.Size([10, 1])\n",
      "torch.Size([348, 10])\n"
     ]
    }
   ],
   "source": [
    "#coef\n",
    "coef = torch.tensor([\n",
    "        [0.0040],\n",
    "        [0.0040],\n",
    "        [0.0040],\n",
    "        [0.0040],\n",
    "        [0.0040],\n",
    "        [0.0040], # POS_50_59_CP\n",
    "        [0.0300], # POS_60_69_CP\n",
    "        [0.0300],\n",
    "        [0.0300],\n",
    "        [0.0300]\n",
    "], dtype=testX.dtype)\n",
    "\n",
    "if torch.cuda.is_available():\n",
    "    trainX = trainX.to(\"cuda\")\n",
    "    trainY = trainY.to(\"cuda\")\n",
    "    testX = testX.to(\"cuda\")\n",
    "    testY = testY.to(\"cuda\")\n",
    "    coef = coef.to(\"cuda\")\n",
    "    \n",
    "\n",
    "#checking shapes of coef and textX for matrix multiplication\n",
    "print(coef.shape)\n",
    "print(testX.shape)"
   ]
  },
  {
   "cell_type": "code",
   "execution_count": 6,
   "id": "dfb2015b-7883-408f-ad9e-018c72faa90b",
   "metadata": {},
   "outputs": [
    {
     "name": "stdout",
     "output_type": "stream",
     "text": [
      "predicted deaths for first row of test: 9.844\n"
     ]
    }
   ],
   "source": [
    "#predicting  the number of deaths for the first \n",
    "pred_deaths_row0test = testX[0] @ coef\n",
    "print(\"predicted deaths for first row of test:\", pred_deaths_row0test.item())"
   ]
  },
  {
   "cell_type": "code",
   "execution_count": 7,
   "id": "6df7c8f1-d25a-4dc7-acc6-10a8ce1b6064",
   "metadata": {
    "tags": []
   },
   "outputs": [
    {
     "name": "stdout",
     "output_type": "stream",
     "text": [
      "difference in predicted deaths and actual deaths for first row of test:  0.844\n"
     ]
    }
   ],
   "source": [
    "#seeing difference\n",
    "print(\"difference in predicted deaths and actual deaths for first row of test: \", f'{(pred_deaths_row0test - testY[0]).item():.3}')"
   ]
  },
  {
   "cell_type": "markdown",
   "id": "cef5f610-f0bc-434e-8e21-bcda9ba6cebb",
   "metadata": {},
   "source": [
    "## Part2: R^2 Score"
   ]
  },
  {
   "cell_type": "code",
   "execution_count": 8,
   "id": "d922be85-873d-4528-bc51-9b98bef3a198",
   "metadata": {
    "tags": []
   },
   "outputs": [],
   "source": [
    "#predicting values of y from testX\n",
    "predictedY = testX @ coef\n",
    "\n",
    "#function to calculate R^2 given predicted and true values of Y\n",
    "def r2_score(trueY, predictedY):\n",
    "    trueMean = torch.mean(testY, 0)\n",
    "    SStot = torch.sum((trueY - trueMean)**2)\n",
    "    SSreg = torch.sum((trueY - predictedY)**2)\n",
    "    improvement = SStot - SSreg\n",
    "    r_sq = improvement/SStot\n",
    "    return r_sq"
   ]
  },
  {
   "cell_type": "code",
   "execution_count": 9,
   "id": "3a522148-50be-4e2b-ad63-04200bb3f292",
   "metadata": {
    "tags": []
   },
   "outputs": [
    {
     "name": "stdout",
     "output_type": "stream",
     "text": [
      "R^2: 0.411\n"
     ]
    }
   ],
   "source": [
    "#getting R^2 for our hardcoded model\n",
    "print(\"R^2:\", f'{r2_score(testY, predictedY).item():.3}')"
   ]
  },
  {
   "cell_type": "markdown",
   "id": "8d8768ba-6848-4331-a9a5-c9e9d3198600",
   "metadata": {
    "tags": []
   },
   "source": [
    "## Part 3: Optimization"
   ]
  },
  {
   "cell_type": "code",
   "execution_count": 10,
   "id": "5b68230a-f7f1-42da-b906-032e4ef2a42f",
   "metadata": {
    "tags": []
   },
   "outputs": [
    {
     "data": {
      "text/plain": [
       "tensor(19.)"
      ]
     },
     "execution_count": 10,
     "metadata": {},
     "output_type": "execute_result"
    }
   ],
   "source": [
    "#y = x^2 - 8x + 1: we are optimizing this \n",
    "x = torch.tensor(0.0)\n",
    "y = x**2 - 8*x + 19\n",
    "y"
   ]
  },
  {
   "cell_type": "code",
   "execution_count": 11,
   "id": "e9477ec0-d5ff-4a98-a697-44bb92d3e0f3",
   "metadata": {},
   "outputs": [
    {
     "name": "stdout",
     "output_type": "stream",
     "text": [
      "tensor(0.8000, requires_grad=True) tensor(19., grad_fn=<AddBackward0>)\n",
      "tensor(1.4400, requires_grad=True) tensor(13.2400, grad_fn=<AddBackward0>)\n",
      "tensor(1.9520, requires_grad=True) tensor(9.5536, grad_fn=<AddBackward0>)\n",
      "tensor(2.3616, requires_grad=True) tensor(7.1943, grad_fn=<AddBackward0>)\n",
      "tensor(2.6893, requires_grad=True) tensor(5.6844, grad_fn=<AddBackward0>)\n",
      "tensor(2.9514, requires_grad=True) tensor(4.7180, grad_fn=<AddBackward0>)\n",
      "tensor(3.1611, requires_grad=True) tensor(4.0995, grad_fn=<AddBackward0>)\n",
      "tensor(3.3289, requires_grad=True) tensor(3.7037, grad_fn=<AddBackward0>)\n",
      "tensor(3.4631, requires_grad=True) tensor(3.4504, grad_fn=<AddBackward0>)\n",
      "tensor(3.5705, requires_grad=True) tensor(3.2882, grad_fn=<AddBackward0>)\n",
      "tensor(3.6564, requires_grad=True) tensor(3.1845, grad_fn=<AddBackward0>)\n",
      "tensor(3.7251, requires_grad=True) tensor(3.1181, grad_fn=<AddBackward0>)\n",
      "tensor(3.7801, requires_grad=True) tensor(3.0756, grad_fn=<AddBackward0>)\n",
      "tensor(3.8241, requires_grad=True) tensor(3.0484, grad_fn=<AddBackward0>)\n",
      "tensor(3.8593, requires_grad=True) tensor(3.0309, grad_fn=<AddBackward0>)\n",
      "tensor(3.8874, requires_grad=True) tensor(3.0198, grad_fn=<AddBackward0>)\n",
      "tensor(3.9099, requires_grad=True) tensor(3.0127, grad_fn=<AddBackward0>)\n",
      "tensor(3.9279, requires_grad=True) tensor(3.0081, grad_fn=<AddBackward0>)\n",
      "tensor(3.9424, requires_grad=True) tensor(3.0052, grad_fn=<AddBackward0>)\n",
      "tensor(3.9539, requires_grad=True) tensor(3.0033, grad_fn=<AddBackward0>)\n",
      "tensor(3.9631, requires_grad=True) tensor(3.0021, grad_fn=<AddBackward0>)\n",
      "tensor(3.9705, requires_grad=True) tensor(3.0014, grad_fn=<AddBackward0>)\n",
      "tensor(3.9764, requires_grad=True) tensor(3.0009, grad_fn=<AddBackward0>)\n",
      "tensor(3.9811, requires_grad=True) tensor(3.0006, grad_fn=<AddBackward0>)\n",
      "tensor(3.9849, requires_grad=True) tensor(3.0004, grad_fn=<AddBackward0>)\n",
      "tensor(3.9879, requires_grad=True) tensor(3.0002, grad_fn=<AddBackward0>)\n",
      "tensor(3.9903, requires_grad=True) tensor(3.0001, grad_fn=<AddBackward0>)\n",
      "tensor(3.9923, requires_grad=True) tensor(3.0001, grad_fn=<AddBackward0>)\n",
      "tensor(3.9938, requires_grad=True) tensor(3.0001, grad_fn=<AddBackward0>)\n",
      "tensor(3.9950, requires_grad=True) tensor(3.0000, grad_fn=<AddBackward0>)\n"
     ]
    }
   ],
   "source": [
    "#function we are optimizing\n",
    "def f(x):\n",
    "    return x**2 - 8*x + 19\n",
    "\n",
    "\n",
    "x = torch.tensor(0.0, requires_grad = True)\n",
    "optimizer = torch.optim.SGD([x], lr = 0.1)\n",
    "\n",
    "for epoch in range(30):\n",
    "    optimizer.zero_grad()\n",
    "    y = f(x)\n",
    "    y.backward()\n",
    "    optimizer.step()\n",
    "    print(x, y)"
   ]
  },
  {
   "cell_type": "code",
   "execution_count": 12,
   "id": "88907a90-cbdf-445e-b6d8-6c2b39e1071e",
   "metadata": {
    "tags": []
   },
   "outputs": [
    {
     "data": {
      "text/plain": [
       "3.9950480461120605"
      ]
     },
     "execution_count": 12,
     "metadata": {},
     "output_type": "execute_result"
    }
   ],
   "source": [
    "#optimized value of x\n",
    "opt_x = x.item()\n",
    "opt_x"
   ]
  },
  {
   "cell_type": "code",
   "execution_count": 13,
   "id": "9b378bbd-e530-4864-9ccc-eccf8f22f709",
   "metadata": {
    "tags": []
   },
   "outputs": [
    {
     "data": {
      "text/plain": [
       "[<matplotlib.lines.Line2D at 0x7fd7d48698e0>]"
      ]
     },
     "execution_count": 13,
     "metadata": {},
     "output_type": "execute_result"
    },
    {
     "data": {
      "image/png": "[encoded data removed]",
      "text/plain": [
       "<Figure size 640x480 with 1 Axes>"
      ]
     },
     "metadata": {},
     "output_type": "display_data"
    }
   ],
   "source": [
    "x_p = torch.arange(-20, 20, 0.1)\n",
    "y_p = f(x_p)\n",
    "plt.plot(x_p, y_p)\n",
    "plt.plot(opt_x, f(opt_x), \"ro\")"
   ]
  },
  {
   "cell_type": "markdown",
   "id": "84450839-f837-4421-bb5d-4e0c62e27fc8",
   "metadata": {
    "tags": []
   },
   "source": [
    "from the above plot it out optimized x value we found by running the 30 epochs seems right because it seems to be at the local minima \n",
    "of the function y = y = x^2 - 8x + 1 that we are trying to minimize"
   ]
  },
  {
   "cell_type": "markdown",
   "id": "dc432a42-422a-4f75-9f1e-e5e0061574a1",
   "metadata": {
    "tags": []
   },
   "source": [
    "## Part 4: Linear Regression"
   ]
  },
  {
   "cell_type": "code",
   "execution_count": 24,
   "id": "3a2ef901-04bf-4c02-8b1d-05334456d535",
   "metadata": {
    "tags": []
   },
   "outputs": [
    {
     "data": {
      "text/plain": [
       "<torch.utils.data.dataset.TensorDataset at 0x7fd8247a9760>"
      ]
     },
     "execution_count": 24,
     "metadata": {},
     "output_type": "execute_result"
    }
   ],
   "source": [
    "#making dataset object\n",
    "ds = torch.utils.data.TensorDataset(trainX, trainY)\n",
    "ds"
   ]
  },
  {
   "cell_type": "code",
   "execution_count": 25,
   "id": "dca4ce78-f9d5-413f-96c6-c697112958c4",
   "metadata": {
    "tags": []
   },
   "outputs": [
    {
     "data": {
      "text/plain": [
       "(tensor([24., 51., 44., 51., 60., 75., 72., 61., 27.,  0.], dtype=torch.float64),\n",
       " tensor([3.], dtype=torch.float64))"
      ]
     },
     "execution_count": 25,
     "metadata": {},
     "output_type": "execute_result"
    }
   ],
   "source": [
    "#checking first row of ds\n",
    "ds[0]"
   ]
  },
  {
   "cell_type": "code",
   "execution_count": 330,
   "id": "00d2e4ef-ec17-4f40-be10-4e8e7c6959fc",
   "metadata": {
    "tags": []
   },
   "outputs": [],
   "source": [
    "#important params\n",
    "batches = 10\n",
    "epochs = 220\n",
    "in_features = trainX.shape[1]\n",
    "out_features = trainY.shape[1]\n",
    "learning_rate = 0.000001 - 0.00000085"
   ]
  },
  {
   "cell_type": "code",
   "execution_count": 331,
   "id": "59891aaa-3f9d-4ccb-ba5e-79364c480a29",
   "metadata": {
    "tags": []
   },
   "outputs": [
    {
     "data": {
      "text/plain": [
       "<torch.utils.data.dataloader.DataLoader at 0x7fd7d033b040>"
      ]
     },
     "execution_count": 331,
     "metadata": {},
     "output_type": "execute_result"
    }
   ],
   "source": [
    "#making data loader object\n",
    "dl = torch.utils.data.DataLoader(ds, shuffle =True, batch_size= 10)\n",
    "dl"
   ]
  },
  {
   "cell_type": "code",
   "execution_count": 332,
   "id": "8378d15f-8b37-4d6c-a022-8a95e4717b8c",
   "metadata": {
    "tags": []
   },
   "outputs": [
    {
     "name": "stdout",
     "output_type": "stream",
     "text": [
      "epoch: 0 loss: 365.628665404285\n",
      "epoch: 1 loss: 328.27754320731486\n",
      "epoch: 2 loss: 306.12851832580947\n",
      "epoch: 3 loss: 289.8442835201787\n",
      "epoch: 4 loss: 274.5027477135759\n",
      "epoch: 5 loss: 261.3907673547803\n",
      "epoch: 6 loss: 251.69983744427208\n",
      "epoch: 7 loss: 237.39872617966225\n",
      "epoch: 8 loss: 228.8329347454865\n",
      "epoch: 9 loss: 218.18408357962315\n",
      "epoch: 10 loss: 207.76858032616622\n",
      "epoch: 11 loss: 199.05741759098345\n",
      "epoch: 12 loss: 191.4347739821212\n",
      "epoch: 13 loss: 183.1399347315296\n",
      "epoch: 14 loss: 176.1940633661836\n",
      "epoch: 15 loss: 168.38594686882018\n",
      "epoch: 16 loss: 161.83538222895984\n",
      "epoch: 17 loss: 155.80224163002444\n",
      "epoch: 18 loss: 149.65873112729938\n",
      "epoch: 19 loss: 144.36666159173745\n",
      "epoch: 20 loss: 138.37295691530448\n",
      "epoch: 21 loss: 133.52669006223704\n",
      "epoch: 22 loss: 128.5103991081776\n",
      "epoch: 23 loss: 124.71874726132197\n",
      "epoch: 24 loss: 119.95470292887227\n",
      "epoch: 25 loss: 115.73462015006645\n",
      "epoch: 26 loss: 113.24295724230096\n",
      "epoch: 27 loss: 107.83399043417396\n",
      "epoch: 28 loss: 104.36877140492157\n",
      "epoch: 29 loss: 100.9627179520478\n",
      "epoch: 30 loss: 98.68819999202658\n",
      "epoch: 31 loss: 95.2989398550956\n",
      "epoch: 32 loss: 92.76415508543593\n",
      "epoch: 33 loss: 90.78926701088659\n",
      "epoch: 34 loss: 88.81681404510061\n",
      "epoch: 35 loss: 85.41803325487234\n",
      "epoch: 36 loss: 83.73277340278695\n",
      "epoch: 37 loss: 81.38042562185404\n",
      "epoch: 38 loss: 79.0909214752113\n",
      "epoch: 39 loss: 77.16930506823311\n",
      "epoch: 40 loss: 75.66642045701309\n",
      "epoch: 41 loss: 74.82419371047631\n",
      "epoch: 42 loss: 74.07106236224455\n",
      "epoch: 43 loss: 70.2456882984364\n",
      "epoch: 44 loss: 69.9477802833473\n",
      "epoch: 45 loss: 67.47956432325499\n",
      "epoch: 46 loss: 65.72815795669744\n",
      "epoch: 47 loss: 64.39835711372397\n",
      "epoch: 48 loss: 63.17048014848831\n",
      "epoch: 49 loss: 61.83410157279471\n",
      "epoch: 50 loss: 60.713985038288484\n",
      "epoch: 51 loss: 59.427648480893296\n",
      "epoch: 52 loss: 59.116520293058485\n",
      "epoch: 53 loss: 57.28379036729556\n",
      "epoch: 54 loss: 56.38289789069578\n",
      "epoch: 55 loss: 55.271613068020336\n",
      "epoch: 56 loss: 54.62996175700702\n",
      "epoch: 57 loss: 53.34330046715077\n",
      "epoch: 58 loss: 52.49722805184301\n",
      "epoch: 59 loss: 51.57209258478841\n",
      "epoch: 60 loss: 51.04711067249414\n",
      "epoch: 61 loss: 50.12912825382968\n",
      "epoch: 62 loss: 49.471785583609744\n",
      "epoch: 63 loss: 48.789317674306766\n",
      "epoch: 64 loss: 48.28293190355716\n",
      "epoch: 65 loss: 47.6895374444069\n",
      "epoch: 66 loss: 47.285328045850754\n",
      "epoch: 67 loss: 46.43982487023711\n",
      "epoch: 68 loss: 45.84601068326845\n",
      "epoch: 69 loss: 45.740437741763195\n",
      "epoch: 70 loss: 44.77375461322663\n",
      "epoch: 71 loss: 44.77662246227836\n",
      "epoch: 72 loss: 43.79598331673804\n",
      "epoch: 73 loss: 43.27791030843846\n",
      "epoch: 74 loss: 43.104808638510725\n",
      "epoch: 75 loss: 44.73380412136438\n",
      "epoch: 76 loss: 42.00660153191599\n",
      "epoch: 77 loss: 41.55324666253801\n",
      "epoch: 78 loss: 41.2416682515219\n",
      "epoch: 79 loss: 41.12480440648494\n",
      "epoch: 80 loss: 40.51211465325533\n",
      "epoch: 81 loss: 40.255984582184205\n",
      "epoch: 82 loss: 39.79773985456736\n",
      "epoch: 83 loss: 39.2998168686034\n",
      "epoch: 84 loss: 39.167590290718685\n",
      "epoch: 85 loss: 38.86468816509885\n",
      "epoch: 86 loss: 38.7496378977504\n",
      "epoch: 87 loss: 38.05308247285834\n",
      "epoch: 88 loss: 37.953552390505045\n",
      "epoch: 89 loss: 37.467049066122904\n",
      "epoch: 90 loss: 37.22837359263564\n",
      "epoch: 91 loss: 36.978802354117526\n",
      "epoch: 92 loss: 36.84518518025343\n",
      "epoch: 93 loss: 36.80612823677298\n",
      "epoch: 94 loss: 36.539297218168336\n",
      "epoch: 95 loss: 36.566033267269816\n",
      "epoch: 96 loss: 35.88041660565781\n",
      "epoch: 97 loss: 35.74780556582227\n",
      "epoch: 98 loss: 35.50524523728909\n",
      "epoch: 99 loss: 35.278329734864755\n",
      "epoch: 100 loss: 35.096139836293695\n",
      "epoch: 101 loss: 35.27598908202231\n",
      "epoch: 102 loss: 34.737450184528825\n",
      "epoch: 103 loss: 34.63028491352397\n",
      "epoch: 104 loss: 34.52031438587316\n",
      "epoch: 105 loss: 34.429696991654865\n",
      "epoch: 106 loss: 34.092441641049625\n",
      "epoch: 107 loss: 33.92855359032709\n",
      "epoch: 108 loss: 34.05883700648921\n",
      "epoch: 109 loss: 33.90680879883155\n",
      "epoch: 110 loss: 33.47715474293033\n",
      "epoch: 111 loss: 33.35557307296657\n",
      "epoch: 112 loss: 33.19521434741986\n",
      "epoch: 113 loss: 33.21523357594605\n",
      "epoch: 114 loss: 32.911890746259104\n",
      "epoch: 115 loss: 32.94979979759759\n",
      "epoch: 116 loss: 32.72549265019955\n",
      "epoch: 117 loss: 32.54651519982851\n",
      "epoch: 118 loss: 32.42178204361862\n",
      "epoch: 119 loss: 32.460886435760095\n",
      "epoch: 120 loss: 32.39871709992391\n",
      "epoch: 121 loss: 32.11636606388448\n",
      "epoch: 122 loss: 32.008792302279694\n",
      "epoch: 123 loss: 31.93431000861725\n",
      "epoch: 124 loss: 31.817248206115693\n",
      "epoch: 125 loss: 31.874341306205547\n",
      "epoch: 126 loss: 31.645657836629947\n",
      "epoch: 127 loss: 31.652653986162708\n",
      "epoch: 128 loss: 31.511105366160386\n",
      "epoch: 129 loss: 31.392584136078487\n",
      "epoch: 130 loss: 31.368508821273203\n",
      "epoch: 131 loss: 31.226303498287596\n",
      "epoch: 132 loss: 31.1409388199716\n",
      "epoch: 133 loss: 31.063550558632556\n",
      "epoch: 134 loss: 31.00660130725812\n",
      "epoch: 135 loss: 30.934029293593298\n",
      "epoch: 136 loss: 31.645191033795342\n",
      "epoch: 137 loss: 30.940188502360947\n",
      "epoch: 138 loss: 30.761006800854773\n",
      "epoch: 139 loss: 30.658506223172775\n",
      "epoch: 140 loss: 30.580510051762896\n",
      "epoch: 141 loss: 30.9973865309523\n",
      "epoch: 142 loss: 30.603747818086614\n",
      "epoch: 143 loss: 30.408647996929687\n",
      "epoch: 144 loss: 30.34230642130405\n",
      "epoch: 145 loss: 32.27939615607789\n",
      "epoch: 146 loss: 30.37369283156698\n",
      "epoch: 147 loss: 30.146689276755282\n",
      "epoch: 148 loss: 30.12657256616092\n",
      "epoch: 149 loss: 30.27020334206422\n",
      "epoch: 150 loss: 30.00073564831904\n",
      "epoch: 151 loss: 29.983754707319584\n",
      "epoch: 152 loss: 29.946307379786937\n",
      "epoch: 153 loss: 29.866824028553783\n",
      "epoch: 154 loss: 29.88452533158406\n",
      "epoch: 155 loss: 29.774155504965904\n",
      "epoch: 156 loss: 29.73244562634765\n",
      "epoch: 157 loss: 29.77919389864152\n",
      "epoch: 158 loss: 29.639041123483008\n",
      "epoch: 159 loss: 29.86166244820654\n",
      "epoch: 160 loss: 29.71688766098723\n",
      "epoch: 161 loss: 29.541533806960864\n",
      "epoch: 162 loss: 29.53451729864725\n",
      "epoch: 163 loss: 29.506263577487374\n",
      "epoch: 164 loss: 29.40448161584611\n",
      "epoch: 165 loss: 29.40256716100861\n",
      "epoch: 166 loss: 29.317434470321334\n",
      "epoch: 167 loss: 29.361335090918686\n",
      "epoch: 168 loss: 29.48293320947989\n",
      "epoch: 169 loss: 29.443685853631123\n",
      "epoch: 170 loss: 29.206757996379032\n",
      "epoch: 171 loss: 29.17111120655696\n",
      "epoch: 172 loss: 29.17707299982857\n",
      "epoch: 173 loss: 29.10171359113465\n",
      "epoch: 174 loss: 29.061108555121937\n",
      "epoch: 175 loss: 29.1445717078489\n",
      "epoch: 176 loss: 28.99220742023942\n",
      "epoch: 177 loss: 29.085506384240727\n",
      "epoch: 178 loss: 28.954119508235618\n",
      "epoch: 179 loss: 28.89611963808059\n",
      "epoch: 180 loss: 28.874772901762753\n",
      "epoch: 181 loss: 28.845300228540392\n",
      "epoch: 182 loss: 28.827120190734426\n",
      "epoch: 183 loss: 28.91305366128633\n",
      "epoch: 184 loss: 28.94015643490656\n",
      "epoch: 185 loss: 28.783367295174337\n",
      "epoch: 186 loss: 28.7263590360686\n",
      "epoch: 187 loss: 28.70049442428662\n",
      "epoch: 188 loss: 28.685003723171874\n",
      "epoch: 189 loss: 28.655178777315765\n",
      "epoch: 190 loss: 28.640147560404607\n",
      "epoch: 191 loss: 28.724359399286296\n",
      "epoch: 192 loss: 28.60385526697453\n",
      "epoch: 193 loss: 28.598168463895608\n",
      "epoch: 194 loss: 28.751792276215777\n",
      "epoch: 195 loss: 28.52838937311529\n",
      "epoch: 196 loss: 28.514724443641683\n",
      "epoch: 197 loss: 28.491474239398716\n",
      "epoch: 198 loss: 28.498978035998153\n",
      "epoch: 199 loss: 28.447776789975432\n",
      "epoch: 200 loss: 28.504268582515945\n",
      "epoch: 201 loss: 28.409172917583078\n",
      "epoch: 202 loss: 28.394836685954917\n",
      "epoch: 203 loss: 28.397347860681712\n",
      "epoch: 204 loss: 28.367792730148814\n",
      "epoch: 205 loss: 28.334394274577875\n",
      "epoch: 206 loss: 28.32045925100051\n",
      "epoch: 207 loss: 28.5462405585563\n",
      "epoch: 208 loss: 28.418941005300976\n",
      "epoch: 209 loss: 28.355427900962056\n",
      "epoch: 210 loss: 28.301397527399217\n",
      "epoch: 211 loss: 28.324423875034217\n",
      "epoch: 212 loss: 28.250506569923747\n",
      "epoch: 213 loss: 28.206903182508988\n",
      "epoch: 214 loss: 28.21372980496795\n",
      "epoch: 215 loss: 28.273474496963352\n",
      "epoch: 216 loss: 28.26019748998708\n",
      "epoch: 217 loss: 28.6153428696317\n",
      "epoch: 218 loss: 28.160109413708476\n",
      "epoch: 219 loss: 28.124135540142248\n"
     ]
    }
   ],
   "source": [
    "model = torch.nn.Linear(in_features, out_features, dtype = torch.float64)\n",
    "optimizer = torch.optim.SGD([model.weight, model.bias], lr = learning_rate)\n",
    "loss_fn = torch.nn.MSELoss() #loss function\n",
    "loss_list = []\n",
    "scheduler = torch.optim.lr_scheduler.StepLR(optimizer, step_size = 30, gamma = 0.9)\n",
    "\n",
    "start = time.time()\n",
    "#beginning of training loop:\n",
    "for epoch in range(epochs):\n",
    "    for batchx, batchy in dl:\n",
    "        optimizer.zero_grad()\n",
    "        predictedy = model(batchx)\n",
    "        loss = loss_fn(batchy, predictedy)\n",
    "        loss.backward()\n",
    "        optimizer.step()\n",
    "    scheduler.step()\n",
    "    x, y = ds[:]\n",
    "    loss_list.append(loss_fn(y, model(x)).item())\n",
    "    print(\"epoch:\", epoch, \"loss:\", loss_fn(y, model(x)).item())\n",
    "#end of training loop\n",
    "end = time.time()"
   ]
  },
  {
   "cell_type": "code",
   "execution_count": 333,
   "id": "c07943e9-c36d-46d6-9b72-bff74e4a092c",
   "metadata": {
    "tags": []
   },
   "outputs": [
    {
     "data": {
      "text/plain": [
       "Text(0, 0.5, 'loss')"
      ]
     },
     "execution_count": 333,
     "metadata": {},
     "output_type": "execute_result"
    },
    {
     "data": {
      "image/png": "[encoded data removed]",
      "text/plain": [
       "<Figure size 640x480 with 1 Axes>"
      ]
     },
     "metadata": {},
     "output_type": "display_data"
    }
   ],
   "source": [
    "plt.plot([i for i in range(epoch+1)], loss_list)\n",
    "plt.xlabel('epochs')\n",
    "plt.ylabel('loss')"
   ]
  },
  {
   "cell_type": "code",
   "execution_count": 334,
   "id": "7139a4ec-b282-4932-b8f6-86cc47307aef",
   "metadata": {},
   "outputs": [
    {
     "name": "stdout",
     "output_type": "stream",
     "text": [
      "time to train: 8.801 secs\n"
     ]
    }
   ],
   "source": [
    "#time to train\n",
    "train_time = end - start\n",
    "print(\"time to train:\", f'{train_time:0.4}', \"secs\")"
   ]
  },
  {
   "cell_type": "code",
   "execution_count": 335,
   "id": "79b3d9e6-2d5a-4083-acaa-58126e559d56",
   "metadata": {
    "tags": []
   },
   "outputs": [
    {
     "data": {
      "text/plain": [
       "tensor([[ 9.7767],\n",
       "        [18.9613],\n",
       "        [ 3.0685],\n",
       "        [ 2.4370],\n",
       "        [ 8.6131]], dtype=torch.float64, grad_fn=<SliceBackward0>)"
      ]
     },
     "execution_count": 335,
     "metadata": {},
     "output_type": "execute_result"
    }
   ],
   "source": [
    "#testing the model\n",
    "testypred = model(testX)\n",
    "testypred[0:5]"
   ]
  },
  {
   "cell_type": "code",
   "execution_count": 336,
   "id": "532a64fa-f26b-4fcd-aac2-fcf8dae4d23a",
   "metadata": {
    "tags": []
   },
   "outputs": [
    {
     "name": "stdout",
     "output_type": "stream",
     "text": [
      "R^2 for trained model: 0.558\n"
     ]
    }
   ],
   "source": [
    "#computing R^2 for trained model\n",
    "print(\"R^2 for trained model:\", f'{r2_score(testY, testypred).item():.3}')"
   ]
  },
  {
   "cell_type": "code",
   "execution_count": 337,
   "id": "af3a41f8-7c78-48e4-9e54-f3158d57fede",
   "metadata": {
    "tags": []
   },
   "outputs": [
    {
     "data": {
      "text/plain": [
       "Text(0.5, 1.0, 'weights of each feature')"
      ]
     },
     "execution_count": 337,
     "metadata": {},
     "output_type": "execute_result"
    },
    {
     "data": {
      "image/png": "[encoded data removed]",
      "text/plain": [
       "<Figure size 1000x500 with 1 Axes>"
      ]
     },
     "metadata": {},
     "output_type": "display_data"
    }
   ],
   "source": [
    "#getting feature names\n",
    "feature_names = list(train.columns)[0:-1]\n",
    "weights = model.weight.detach().numpy()\n",
    "weights = weights.tolist()[0]\n",
    "\n",
    "fig = plt.figure(figsize = (10, 5))\n",
    "plt.bar(feature_names, weights, width = 0.8)\n",
    "plt.xticks(rotation=90)\n",
    "plt.xlabel(\"feature names\")\n",
    "plt.ylabel(\"feature weights\")\n",
    "plt.title(\"weights of each feature\")"
   ]
  },
  {
   "cell_type": "code",
   "execution_count": 354,
   "id": "fc5618b4-162e-4853-a501-8ea400738018",
   "metadata": {
    "tags": []
   },
   "outputs": [],
   "source": [
    "#checking how good our model is compared to scikits linear regression just for fun not meant for grade\n",
    "from sklearn.linear_model import LinearRegression"
   ]
  },
  {
   "cell_type": "code",
   "execution_count": 355,
   "id": "0df767eb-b21b-4d14-9ee1-29b158fee6fe",
   "metadata": {},
   "outputs": [
    {
     "name": "stdout",
     "output_type": "stream",
     "text": [
      "R^2 score of scikits simple linear regression model: 0.588\n"
     ]
    }
   ],
   "source": [
    "#linear model\n",
    "start = time.time()\n",
    "reg = LinearRegression().fit(trainX, trainY)\n",
    "print(\"R^2 score of scikits simple linear regression model: \" f'{reg.score(testX, testY):0.3}')\n",
    "end = time.time()"
   ]
  },
  {
   "cell_type": "markdown",
   "id": "c3eb4738-d8a1-47a3-aba3-b73b4bf9185b",
   "metadata": {},
   "source": [
    "The R^2 we are getting seems pretty close to scikits, but our model takes more time to fit. I think we will see benefits of tensors and Gradient Descent for model training when we have much bigger data and GPU's to process it."
   ]
  },
  {
   "cell_type": "code",
   "execution_count": null,
   "id": "6f65710c-7ef9-4506-bcab-b2310e1e7167",
   "metadata": {
    "tags": []
   },
   "outputs": [],
   "source": []
  },
  {
   "cell_type": "code",
   "execution_count": null,
   "id": "c697ab96-8245-43bf-9199-4fe0d88b6a37",
   "metadata": {},
   "outputs": [],
   "source": []
  }
 ],
 "metadata": {
  "kernelspec": {
   "display_name": "Python 3 (ipykernel)",
   "language": "python",
   "name": "python3"
  },
  "language_info": {
   "codemirror_mode": {
    "name": "ipython",
    "version": 3
   },
   "file_extension": ".py",
   "mimetype": "text/x-python",
   "name": "python",
   "nbconvert_exporter": "python",
   "pygments_lexer": "ipython3",
   "version": "3.8.10"
  }
 },
 "nbformat": 4,
 "nbformat_minor": 5
}
